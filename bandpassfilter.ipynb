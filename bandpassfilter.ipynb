{
  "nbformat": 4,
  "nbformat_minor": 0,
  "metadata": {
    "colab": {
      "name": "bandpassfilter.ipynb",
      "provenance": [],
      "collapsed_sections": []
    },
    "kernelspec": {
      "name": "python3",
      "display_name": "Python 3"
    }
  },
  "cells": [
    {
      "cell_type": "code",
      "metadata": {
        "id": "adzqdcLwBQQD"
      },
      "source": [
        "import numpy as np\n",
        "import scipy.signal as sg\n",
        "import matplotlib.pyplot as plt\n",
        "import pylab"
      ],
      "execution_count": null,
      "outputs": []
    },
    {
      "cell_type": "markdown",
      "metadata": {
        "id": "YigB2EBEVcoy"
      },
      "source": [
        "# **Bandpass Filter (Appendix 1)**"
      ]
    },
    {
      "cell_type": "markdown",
      "metadata": {
        "id": "BIeDKASOBmic"
      },
      "source": [
        "# Specifications \n",
        "\n",
        "---"
      ]
    },
    {
      "cell_type": "code",
      "metadata": {
        "id": "lDEcJvUIBcTo"
      },
      "source": [
        "delta = 0.15\n",
        "tr_band = 4"
      ],
      "execution_count": null,
      "outputs": []
    },
    {
      "cell_type": "code",
      "metadata": {
        "id": "_ju5WxxzBxXv"
      },
      "source": [
        "fp1 = 62.3\n",
        "fp2 = 82.3\n",
        "fs2 = fp2+4\n",
        "fs1 = fp1-4\n",
        "f = [fp1, fp2, fs1, fs2]\n",
        "fs = 330"
      ],
      "execution_count": null,
      "outputs": []
    },
    {
      "cell_type": "markdown",
      "metadata": {
        "id": "wJSSeoozCE1D"
      },
      "source": [
        "# Digital domain "
      ]
    },
    {
      "cell_type": "code",
      "metadata": {
        "id": "YSN9Q1ghCG88"
      },
      "source": [
        "factor = 2*3.14/330\n",
        "wp1 = f[0]*factor \n",
        "wp2 = factor*f[1]\n",
        "ws1 = factor*f[2]\n",
        "ws2 = factor*f[3]\n",
        "w = [wp1, wp2, ws1, ws2]\n",
        "w = np.array(w, dtype =\"f\")"
      ],
      "execution_count": null,
      "outputs": []
    },
    {
      "cell_type": "markdown",
      "metadata": {
        "id": "B6JkJcJECwW-"
      },
      "source": [
        "# Analog Domain"
      ]
    },
    {
      "cell_type": "code",
      "metadata": {
        "id": "cj0nXb3-CzoG",
        "outputId": "519c5dbb-acaf-43db-8661-1279ff71ad19",
        "colab": {
          "base_uri": "https://localhost:8080/"
        }
      },
      "source": [
        "import math\n",
        "omega =np.tan(w/2)\n",
        "\n",
        "omega\n"
      ],
      "execution_count": null,
      "outputs": [
        {
          "output_type": "execute_result",
          "data": {
            "text/plain": [
              "array([0.67360973, 0.9954082 , 0.6196368 , 1.074204  ], dtype=float32)"
            ]
          },
          "metadata": {
            "tags": []
          },
          "execution_count": 30
        }
      ]
    },
    {
      "cell_type": "markdown",
      "metadata": {
        "id": "09mQtnuRDZk9"
      },
      "source": [
        "# Conversion to specifications of a low pass filter \n",
        "\n",
        "___"
      ]
    },
    {
      "cell_type": "code",
      "metadata": {
        "id": "XM2HJDIlDejU",
        "outputId": "dcec5a5e-0df8-4c01-c1e9-4c8f1e7b6153",
        "colab": {
          "base_uri": "https://localhost:8080/"
        }
      },
      "source": [
        "omega_l = math.sqrt(omega[0]*omega[1])\n",
        "b = omega[1] - omega[0] \n",
        "\n",
        "omega_ls1 = (omega[2]**2-omega_l**2)/(b*omega[2])\n",
        "omega_ls2 = (omega[3]**2-omega_l**2)/(b*omega[3])\n",
        "omega_ls = min(abs(omega_ls1), abs(omega_ls2))\n",
        "omega_ls\n"
      ],
      "execution_count": null,
      "outputs": [
        {
          "output_type": "execute_result",
          "data": {
            "text/plain": [
              "1.3984075337463846"
            ]
          },
          "metadata": {
            "tags": []
          },
          "execution_count": 31
        }
      ]
    },
    {
      "cell_type": "code",
      "metadata": {
        "id": "KgKSSzbmGmkG"
      },
      "source": [
        "D1 = (1/(1-delta)**2)-1\n",
        "D2 = (1/(delta**2))-1"
      ],
      "execution_count": null,
      "outputs": []
    },
    {
      "cell_type": "code",
      "metadata": {
        "id": "MxpxD1dTGwUm",
        "outputId": "15a173d4-8f77-4a29-8444-9237691193fc",
        "colab": {
          "base_uri": "https://localhost:8080/"
        }
      },
      "source": [
        "N = np.arccosh(np.sqrt(D2)/np.sqrt(D1))/np.arccosh(omega_ls)\n",
        "N = np.ceil(N)\n",
        "epsilon = np.sqrt(D1)\n",
        "N"
      ],
      "execution_count": null,
      "outputs": [
        {
          "output_type": "execute_result",
          "data": {
            "text/plain": [
              "4.0"
            ]
          },
          "metadata": {
            "tags": []
          },
          "execution_count": 33
        }
      ]
    },
    {
      "cell_type": "markdown",
      "metadata": {
        "id": "LVNlVHyRHWxJ"
      },
      "source": [
        "# IIR Filter Design (Chebyschev Filter)\n",
        "\n",
        "___"
      ]
    },
    {
      "cell_type": "markdown",
      "metadata": {
        "id": "l_3GAQcLHwpd"
      },
      "source": [
        "# Finding the poles for LPF specifications"
      ]
    },
    {
      "cell_type": "code",
      "metadata": {
        "id": "R1rMysJSHVyf",
        "outputId": "f8aee213-343f-4e89-b9b2-489c454e7ef3",
        "colab": {
          "base_uri": "https://localhost:8080/"
        }
      },
      "source": [
        "poles = np.zeros(int(2*N),dtype='complex64')\n",
        "B_k = np.arcsinh(1/epsilon)/N\n",
        "for k in range(2*int(N)):\n",
        "\tA_k = (2*k+1)*np.pi/(2*N)\n",
        "\tpoles[k] = np.sin(A_k)*np.sinh(B_k) + (1.j)*np.cos(A_k)*np.cosh(B_k)\n",
        "\n",
        "left_poles = np.zeros([0],dtype='complex64')\n",
        "for s in poles:\n",
        "  if(s.real<= 0):\n",
        "    left_poles=np.append(left_poles,s)\n",
        "left_poles"
      ],
      "execution_count": null,
      "outputs": [
        {
          "output_type": "execute_result",
          "data": {
            "text/plain": [
              "array([-0.12216229-0.9698117j , -0.29492587-0.40170914j,\n",
              "       -0.29492587+0.40170914j, -0.12216229+0.9698117j ], dtype=complex64)"
            ]
          },
          "metadata": {
            "tags": []
          },
          "execution_count": 34
        }
      ]
    },
    {
      "cell_type": "markdown",
      "metadata": {
        "id": "r6wLwpb6IPVJ"
      },
      "source": [
        "# Plotting the poles for LPF Specifications"
      ]
    },
    {
      "cell_type": "code",
      "metadata": {
        "id": "qcF3Uyx0ITAr",
        "outputId": "5a529be4-967d-4eee-b4ca-54b8f4cc587c",
        "colab": {
          "base_uri": "https://localhost:8080/",
          "height": 312
        }
      },
      "source": [
        "plt.figure(1)\n",
        "plt.grid(True)\t\n",
        "plt.scatter(left_poles.real,left_poles.imag,s=50,marker='x')\n",
        "plt.title('Pole zero plot of Low Pass Filter')\n",
        "plt.ylabel('Imaginary part')\n",
        "plt.xlabel('Real part')"
      ],
      "execution_count": null,
      "outputs": [
        {
          "output_type": "execute_result",
          "data": {
            "text/plain": [
              "Text(0.5, 0, 'Real part')"
            ]
          },
          "metadata": {
            "tags": []
          },
          "execution_count": 35
        },
        {
          "output_type": "display_data",
          "data": {
            "image/png": "[encoded data removed]",
            "text/plain": [
              "<Figure size 432x288 with 1 Axes>"
            ]
          },
          "metadata": {
            "tags": [],
            "needs_background": "light"
          }
        }
      ]
    },
    {
      "cell_type": "code",
      "metadata": {
        "id": "uNp5SiiKTv5Y",
        "outputId": "4d43d1c4-9176-4883-cd78-f2a4baf3c98a",
        "colab": {
          "base_uri": "https://localhost:8080/",
          "height": 312
        }
      },
      "source": [
        "plt.figure(1)\n",
        "plt.grid(True)\t\n",
        "plt.scatter(poles.real,poles.imag,s=50,marker='x')\n",
        "plt.title('Overall pole plot of Low Pass Filter (considering right half of the plane too')\n",
        "plt.ylabel('Imaginary part')\n",
        "plt.xlabel('Real part')"
      ],
      "execution_count": null,
      "outputs": [
        {
          "output_type": "execute_result",
          "data": {
            "text/plain": [
              "Text(0.5, 0, 'Real part')"
            ]
          },
          "metadata": {
            "tags": []
          },
          "execution_count": 36
        },
        {
          "output_type": "display_data",
          "data": {
            "image/png": "[encoded data removed]",
            "text/plain": [
              "<Figure size 432x288 with 1 Axes>"
            ]
          },
          "metadata": {
            "tags": [],
            "needs_background": "light"
          }
        }
      ]
    },
    {
      "cell_type": "markdown",
      "metadata": {
        "id": "qpAtxZYWJRYy"
      },
      "source": [
        "# Converting the function into analog domain "
      ]
    },
    {
      "cell_type": "code",
      "metadata": {
        "id": "xyk2bLpgJU3D",
        "outputId": "8987633d-ce6f-4dca-9dba-2a70af50ea30",
        "colab": {
          "base_uri": "https://localhost:8080/",
          "height": 312
        }
      },
      "source": [
        "chebyshev_k = 1\n",
        "for k in range(int(N)):\n",
        "\t\tchebyshev_k = chebyshev_k*poles[k]\n",
        "\n",
        "analog_numer = chebyshev_k.real\n",
        "analog_denom = 1+0.j\n",
        "for c in poles:\n",
        "\tif(c.real<= 0):\n",
        "\t\tanalog_numer = np.poly1d([b,0],r=0)*analog_numer \n",
        "\t\tanalog_denom = np.poly1d([1,-b*c,omega_l**2],r=0)*analog_denom\n",
        "\n",
        "z,p,k=sg.tf2zpk(analog_numer,analog_denom)\n",
        "\n",
        "plt.figure(5)\n",
        "plt.grid(True)\n",
        "plt.scatter(p.real,p.imag,s=50,c='b',marker='x')\n",
        "plt.scatter(z.real,z.imag,s=50,c='b',marker='o')\n",
        "plt.title('Pole Zero plot of Analog Bandpass filter')\n",
        "plt.ylabel('Imaginary')\n",
        "plt.xlabel('Real')"
      ],
      "execution_count": null,
      "outputs": [
        {
          "output_type": "execute_result",
          "data": {
            "text/plain": [
              "Text(0.5, 0, 'Real')"
            ]
          },
          "metadata": {
            "tags": []
          },
          "execution_count": 37
        },
        {
          "output_type": "display_data",
          "data": {
            "image/png": "[encoded data removed]",
            "text/plain": [
              "<Figure size 432x288 with 1 Axes>"
            ]
          },
          "metadata": {
            "tags": [],
            "needs_background": "light"
          }
        }
      ]
    },
    {
      "cell_type": "markdown",
      "metadata": {
        "id": "epCjqJ8_NHAP"
      },
      "source": [
        "# Converting to digital domain "
      ]
    },
    {
      "cell_type": "code",
      "metadata": {
        "id": "f2vTTje9NJL7",
        "outputId": "962c4cfa-8558-42a3-fab4-fb438d5935cc",
        "colab": {
          "base_uri": "https://localhost:8080/",
          "height": 312
        }
      },
      "source": [
        "digital_numer=chebyshev_k.real\n",
        "digital_denom=1+0.j\n",
        "for c in poles:\n",
        "  if(c.real<= 0):\n",
        "    digital_numer = np.poly1d([b,0,-b],r=0)*digital_numer \n",
        "    digital_denom = np.poly1d([(omega_l**2-b*c+1),((2*omega_l**2)-2),(omega_l**2+b*c+1)],r=0)*digital_denom\n",
        "\n",
        "z,p,k = sg.tf2zpk(digital_numer,digital_denom)\n",
        "\n",
        "plt.figure(4)\n",
        "plt.grid(True)\n",
        "plt.scatter(p.real,p.imag,s=50,marker='x')\n",
        "plt.scatter(z.real,z.imag,s=50,marker='o')\n",
        "plt.title('Pole plot of Digital BPF')\n",
        "plt.ylabel('Imaginary')\n",
        "plt.xlabel('Real')"
      ],
      "execution_count": null,
      "outputs": [
        {
          "output_type": "execute_result",
          "data": {
            "text/plain": [
              "Text(0.5, 0, 'Real')"
            ]
          },
          "metadata": {
            "tags": []
          },
          "execution_count": 38
        },
        {
          "output_type": "display_data",
          "data": {
            "image/png": "[encoded data removed]",
            "text/plain": [
              "<Figure size 432x288 with 1 Axes>"
            ]
          },
          "metadata": {
            "tags": [],
            "needs_background": "light"
          }
        }
      ]
    },
    {
      "cell_type": "markdown",
      "metadata": {
        "id": "gEvYenYENpEv"
      },
      "source": [
        "# Final Frequency Response "
      ]
    },
    {
      "cell_type": "code",
      "metadata": {
        "id": "hstlFW2lNrKX",
        "outputId": "8884bf75-1f73-4b3a-efb3-2c3280f555d9",
        "colab": {
          "base_uri": "https://localhost:8080/",
          "height": 295
        }
      },
      "source": [
        "\n",
        "plt.clf()\n",
        "plt.grid(True)\n",
        "w,h= sg.freqz(digital_numer,digital_denom)\n",
        "plt.plot((w/max(w)), np.absolute(h), linewidth=2)\n",
        "plt.xlabel('Normalized Frequency (Hz)')\n",
        "plt.ylabel('Gain')\n",
        "plt.title('Frequency Response of the digital filter')\n",
        "plt.show()"
      ],
      "execution_count": null,
      "outputs": [
        {
          "output_type": "display_data",
          "data": {
            "image/png": "[encoded data removed]",
            "text/plain": [
              "<Figure size 432x288 with 1 Axes>"
            ]
          },
          "metadata": {
            "tags": [],
            "needs_background": "light"
          }
        }
      ]
    },
    {
      "cell_type": "markdown",
      "metadata": {
        "id": "j-dnwtDAOWf9"
      },
      "source": [
        "# FIR Filter Design\n",
        "\n",
        "___"
      ]
    },
    {
      "cell_type": "markdown",
      "metadata": {
        "id": "_dhHqAnwPQAF"
      },
      "source": [
        "# Premilinary Calculations "
      ]
    },
    {
      "cell_type": "code",
      "metadata": {
        "id": "BdfwWX_WOa9k"
      },
      "source": [
        "A = -20*math.log10(delta)\n",
        "delta_w = 2*3.14*4000/330000\n",
        "\n",
        "\n",
        "N = np.ceil((A-8)/(2*2.285*delta_w)) + 5 # Added tha value of 5 so that less ripples exist \n"
      ],
      "execution_count": null,
      "outputs": []
    },
    {
      "cell_type": "markdown",
      "metadata": {
        "id": "dDDz6xesStJX"
      },
      "source": [
        "# Ideal Impulse Response "
      ]
    },
    {
      "cell_type": "code",
      "metadata": {
        "id": "WTPHCp2ISvXV",
        "outputId": "4a56d2fd-1639-4612-953f-d1979093e2bd",
        "colab": {
          "base_uri": "https://localhost:8080/"
        }
      },
      "source": [
        "wc1= wp1\n",
        "wc2 = wp2 \n",
        "iterable   = ((np.sin(wc2*k)-np.sin(wc1*k))/(np.pi*k) for k in range(int(-N),int(N+1)))\n",
        "h_ideal    = np.fromiter(iterable,float)\n",
        "h_ideal[int(N)] = ((wc2-wc1)/np.pi)\n"
      ],
      "execution_count": null,
      "outputs": [
        {
          "output_type": "stream",
          "text": [
            "/usr/local/lib/python3.6/dist-packages/ipykernel_launcher.py:3: RuntimeWarning: invalid value encountered in double_scalars\n",
            "  This is separate from the ipykernel package so we can avoid doing imports until\n"
          ],
          "name": "stderr"
        }
      ]
    },
    {
      "cell_type": "markdown",
      "metadata": {
        "id": "lKgq5iRqT5ia"
      },
      "source": [
        "# Kaiser Window "
      ]
    },
    {
      "cell_type": "code",
      "metadata": {
        "id": "9lfNcGr-T7b8"
      },
      "source": [
        "h_kaiser = sg.kaiser(2*N+1,0) # Know that the value of beta is 0\n",
        "h_org    = h_ideal*h_kaiser"
      ],
      "execution_count": null,
      "outputs": []
    },
    {
      "cell_type": "markdown",
      "metadata": {
        "id": "MwZNAn1JVeZI"
      },
      "source": [
        "# Plotting the frequency response of the filter "
      ]
    },
    {
      "cell_type": "code",
      "metadata": {
        "id": "WxzPmevCVga4",
        "outputId": "02194f7f-ce68-437a-c3b8-88ec9c23aaa3",
        "colab": {
          "base_uri": "https://localhost:8080/",
          "height": 295
        }
      },
      "source": [
        "\n",
        "plt.clf()\n",
        "plt.grid(True)\n",
        "w,h= sg.freqz(h_org)\n",
        "plt.plot(w/max(w), np.absolute(h), linewidth=2)\n",
        "plt.xlabel('Normalized Frequency (Hz)')\n",
        "plt.ylabel('Gain')\n",
        "plt.title('Magnitude  Response of the FIR filter')\n",
        "plt.show()"
      ],
      "execution_count": null,
      "outputs": [
        {
          "output_type": "display_data",
          "data": {
            "image/png": "[encoded data removed]",
            "text/plain": [
              "<Figure size 432x288 with 1 Axes>"
            ]
          },
          "metadata": {
            "tags": [],
            "needs_background": "light"
          }
        }
      ]
    },
    {
      "cell_type": "markdown",
      "metadata": {
        "id": "Y9WkQL35Vrxc"
      },
      "source": [
        "# Plotting the phase response of the filter "
      ]
    },
    {
      "cell_type": "code",
      "metadata": {
        "id": "eEmiWlu-Vq7o",
        "outputId": "d3a956c2-8b24-42bd-836b-44a82e6b6445",
        "colab": {
          "base_uri": "https://localhost:8080/",
          "height": 312
        }
      },
      "source": [
        "\n",
        "plt.grid(True)\n",
        "\n",
        "hPhase = pylab.unwrap(np.arctan2(np.imag(h),np.real(h)))\n",
        "plt.plot(w/max(w),hPhase,linewidth=2)\n",
        "plt.ylabel('Phase (radians)')\n",
        "plt.xlabel(r'Normalized Frequency')\n",
        "plt.title(r'Phase response of the FIR filter')"
      ],
      "execution_count": null,
      "outputs": [
        {
          "output_type": "execute_result",
          "data": {
            "text/plain": [
              "Text(0.5, 1.0, 'Phase response of the FIR filter')"
            ]
          },
          "metadata": {
            "tags": []
          },
          "execution_count": 44
        },
        {
          "output_type": "display_data",
          "data": {
            "image/png": "[encoded data removed]",
            "text/plain": [
              "<Figure size 432x288 with 1 Axes>"
            ]
          },
          "metadata": {
            "tags": [],
            "needs_background": "light"
          }
        }
      ]
    }
  ]
}