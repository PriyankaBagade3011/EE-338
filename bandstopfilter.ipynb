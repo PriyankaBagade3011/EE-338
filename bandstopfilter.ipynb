{
  "nbformat": 4,
  "nbformat_minor": 0,
  "metadata": {
    "colab": {
      "name": "bandstopfilter.ipynb",
      "provenance": []
    },
    "kernelspec": {
      "name": "python3",
      "display_name": "Python 3"
    }
  },
  "cells": [
    {
      "cell_type": "code",
      "metadata": {
        "id": "8jLN37Wxg0yk"
      },
      "source": [
        "import numpy as np\n",
        "import scipy.signal as sg\n",
        "import matplotlib.pyplot as plt\n",
        "import pylab"
      ],
      "execution_count": 24,
      "outputs": []
    },
    {
      "cell_type": "markdown",
      "metadata": {
        "id": "ivSkbs0UVLVP"
      },
      "source": [
        "# **Band Stop Filter (Appendix 2)**\n",
        "\n",
        "---"
      ]
    },
    {
      "cell_type": "markdown",
      "metadata": {
        "id": "dNZqCMe7iT-7"
      },
      "source": [
        "# Specifications \n",
        "\n",
        "___"
      ]
    },
    {
      "cell_type": "code",
      "metadata": {
        "id": "OQefXCA4hV5W"
      },
      "source": [
        "delta = 0.15\n",
        "tr_band = 4"
      ],
      "execution_count": 25,
      "outputs": []
    },
    {
      "cell_type": "code",
      "metadata": {
        "id": "9nDslM6jiXNV"
      },
      "source": [
        "fp1 = 53.4\n",
        "fp2 = 73.4\n",
        "fs2 = fp2-4\n",
        "fs1 = fp1+4\n",
        "f = [fp1, fp2, fs1, fs2]\n",
        "fs = 260"
      ],
      "execution_count": 26,
      "outputs": []
    },
    {
      "cell_type": "code",
      "metadata": {
        "id": "6SSTkcZUi0ZE",
        "outputId": "9595c66f-6231-4801-b955-b599f1e3407e",
        "colab": {
          "base_uri": "https://localhost:8080/"
        }
      },
      "source": [
        "factor = 2*3.14/260\n",
        "wp1 = f[0]*factor \n",
        "wp2 = factor*f[1]\n",
        "ws1 = factor*f[2]\n",
        "ws2 = factor*f[3]\n",
        "w = [wp1, wp2, ws1, ws2]\n",
        "w = np.array(w, dtype =\"f\")\n",
        "w"
      ],
      "execution_count": 27,
      "outputs": [
        {
          "output_type": "execute_result",
          "data": {
            "text/plain": [
              "array([1.2898154, 1.7728924, 1.3864307, 1.6762769], dtype=float32)"
            ]
          },
          "metadata": {
            "tags": []
          },
          "execution_count": 27
        }
      ]
    },
    {
      "cell_type": "code",
      "metadata": {
        "id": "-JV68rjUi-Qc",
        "outputId": "6a88c5e2-8516-4a65-f724-55df91d9f387",
        "colab": {
          "base_uri": "https://localhost:8080/"
        }
      },
      "source": [
        "import math\n",
        "omega =np.tan(w/2)\n",
        "omega"
      ],
      "execution_count": 28,
      "outputs": [
        {
          "output_type": "execute_result",
          "data": {
            "text/plain": [
              "array([0.7522001, 1.225668 , 0.8307561, 1.1114625], dtype=float32)"
            ]
          },
          "metadata": {
            "tags": []
          },
          "execution_count": 28
        }
      ]
    },
    {
      "cell_type": "markdown",
      "metadata": {
        "id": "zK-5Jt21jDgq"
      },
      "source": [
        "# Conversion to specifications of a low pass filter (Butterworth Filter)\n",
        "\n",
        "___"
      ]
    },
    {
      "cell_type": "code",
      "metadata": {
        "id": "5j24uog-jGmv",
        "outputId": "38298725-c36a-48ce-a006-ab380e367196",
        "colab": {
          "base_uri": "https://localhost:8080/"
        }
      },
      "source": [
        "omega_l = math.sqrt(omega[0]*omega[1])\n",
        "b = omega[1] - omega[0] \n",
        "\n",
        "omega_ls1 = -(b*omega[2])/(omega[2]**2-omega_l**2)\n",
        "omega_ls2 = -(b*omega[3])/(omega[3]**2-omega_l**2)\n",
        "omega_ls = min(abs(omega_ls1), abs(omega_ls2))\n",
        "print(omega_ls)\n"
      ],
      "execution_count": 29,
      "outputs": [
        {
          "output_type": "stream",
          "text": [
            "1.6791309841253697\n"
          ],
          "name": "stdout"
        }
      ]
    },
    {
      "cell_type": "code",
      "metadata": {
        "id": "o9iexrxhjjpJ"
      },
      "source": [
        "D1 = (1/(1-delta)**2)-1\n",
        "D2 = (1/(delta**2))-1"
      ],
      "execution_count": 30,
      "outputs": []
    },
    {
      "cell_type": "code",
      "metadata": {
        "id": "lMgRrLu6jrm5",
        "outputId": "556a7764-7829-49c2-9bd5-69df0f147906",
        "colab": {
          "base_uri": "https://localhost:8080/"
        }
      },
      "source": [
        "N = math.ceil(0.5*math.log10(D2/D1)/math.log10(omega_ls))\n",
        "omega_c = 1/np.power(D1,(0.5/N))\n",
        "omega_c\n",
        "omega_c"
      ],
      "execution_count": 31,
      "outputs": [
        {
          "output_type": "execute_result",
          "data": {
            "text/plain": [
              "1.1004174949714172"
            ]
          },
          "metadata": {
            "tags": []
          },
          "execution_count": 31
        }
      ]
    },
    {
      "cell_type": "markdown",
      "metadata": {
        "id": "M0JW04UAkzHe"
      },
      "source": [
        "# Finding the poles of a filter "
      ]
    },
    {
      "cell_type": "code",
      "metadata": {
        "id": "or3smfBkjrqk",
        "outputId": "53c5fbe9-e248-4c7a-e26d-a73b7dcba60c",
        "colab": {
          "base_uri": "https://localhost:8080/"
        }
      },
      "source": [
        "poles = np.zeros([2*N],dtype='complex64')\n",
        "for k in range(int(2*N)):\n",
        "\tpoles[k] = omega_c*np.exp(1.j*np.pi*(2*k + 1 + N)/(2*N))\n",
        "\n",
        "left_poles = np.zeros([0],dtype='complex64')\n",
        "for s in poles:\n",
        "  if(s.real<= 0):\n",
        "    left_poles=np.append(left_poles,s)\n",
        "left_poles"
      ],
      "execution_count": 32,
      "outputs": [
        {
          "output_type": "execute_result",
          "data": {
            "text/plain": [
              "array([-0.34004772+1.0465592e+00j, -0.89025646+6.4680916e-01j,\n",
              "       -1.1004175 +1.3476228e-16j, -0.89025646-6.4680916e-01j,\n",
              "       -0.34004772-1.0465592e+00j], dtype=complex64)"
            ]
          },
          "metadata": {
            "tags": []
          },
          "execution_count": 32
        }
      ]
    },
    {
      "cell_type": "code",
      "metadata": {
        "id": "M3woqoAIlZGC",
        "outputId": "371c059c-51d9-4625-c1a6-9f07b50d2f97",
        "colab": {
          "base_uri": "https://localhost:8080/",
          "height": 312
        }
      },
      "source": [
        "\n",
        "plt.grid(True)\t\n",
        "plt.scatter(left_poles.real,left_poles.imag,s=50,marker='x')\n",
        "plt.title('Pole plot of Analog LPF')\n",
        "plt.ylabel('Imaginary')\n",
        "plt.xlabel('Real')\n",
        "\n"
      ],
      "execution_count": 33,
      "outputs": [
        {
          "output_type": "execute_result",
          "data": {
            "text/plain": [
              "Text(0.5, 0, 'Real')"
            ]
          },
          "metadata": {
            "tags": []
          },
          "execution_count": 33
        },
        {
          "output_type": "display_data",
          "data": {
            "image/png": "[encoded data removed]",
            "text/plain": [
              "<Figure size 432x288 with 1 Axes>"
            ]
          },
          "metadata": {
            "tags": [],
            "needs_background": "light"
          }
        }
      ]
    },
    {
      "cell_type": "code",
      "metadata": {
        "id": "BdgPFgCAUn51",
        "outputId": "c01490e2-3acf-4130-ffce-eeb592e2886e",
        "colab": {
          "base_uri": "https://localhost:8080/",
          "height": 312
        }
      },
      "source": [
        "\n",
        "plt.grid(True)\t\n",
        "plt.scatter(poles.real, poles.imag,s=50,marker='x')\n",
        "plt.title('Full Pole plot of Analog LPF considering the right half of the plane as well')\n",
        "plt.ylabel('Imaginary')\n",
        "plt.xlabel('Real')"
      ],
      "execution_count": 34,
      "outputs": [
        {
          "output_type": "execute_result",
          "data": {
            "text/plain": [
              "Text(0.5, 0, 'Real')"
            ]
          },
          "metadata": {
            "tags": []
          },
          "execution_count": 34
        },
        {
          "output_type": "display_data",
          "data": {
            "image/png": "[encoded data removed]",
            "text/plain": [
              "<Figure size 432x288 with 1 Axes>"
            ]
          },
          "metadata": {
            "tags": [],
            "needs_background": "light"
          }
        }
      ]
    },
    {
      "cell_type": "markdown",
      "metadata": {
        "id": "UHJrPh7Ol3hB"
      },
      "source": [
        "\n",
        "# Analog LPF to Analog conversion "
      ]
    },
    {
      "cell_type": "code",
      "metadata": {
        "id": "BT7WEN-Nl8kh",
        "outputId": "8ebece67-e29c-46df-f60f-e04e8b496593",
        "colab": {
          "base_uri": "https://localhost:8080/",
          "height": 312
        }
      },
      "source": [
        "gain = np.power(omega_c,N)\n",
        "numerator = gain\n",
        "denominator = 1+0.j\n",
        "for p in left_poles:\n",
        "    numerator = np.poly1d([1,0,omega_l**2 ],r=0)*numerator \n",
        "    denominator = np.poly1d([-p,b, -p*omega_l**2],r=0)*denominator\n",
        "z,p,k = sg.tf2zpk(numerator,denominator)\n",
        "\n",
        "\n",
        "plt.grid(True)\n",
        "plt.scatter(p.real,p.imag,s=50,c='b',marker='x')\n",
        "plt.scatter(z.real,z.imag,s=50,c='b',marker='o')\n",
        "plt.title('Pole plot of Analog Bandstop filter')\n",
        "plt.ylabel('Imaginary')\n",
        "plt.xlabel('Real')"
      ],
      "execution_count": 35,
      "outputs": [
        {
          "output_type": "execute_result",
          "data": {
            "text/plain": [
              "Text(0.5, 0, 'Real')"
            ]
          },
          "metadata": {
            "tags": []
          },
          "execution_count": 35
        },
        {
          "output_type": "display_data",
          "data": {
            "image/png": "[encoded data removed]",
            "text/plain": [
              "<Figure size 432x288 with 1 Axes>"
            ]
          },
          "metadata": {
            "tags": [],
            "needs_background": "light"
          }
        }
      ]
    },
    {
      "cell_type": "markdown",
      "metadata": {
        "id": "fXGWc2M_mxTg"
      },
      "source": [
        "# Conversion to digital domain"
      ]
    },
    {
      "cell_type": "code",
      "metadata": {
        "id": "nm3UoCfhmzOp",
        "outputId": "c144a9a4-bba1-47b8-c7aa-42c6aa366ee6",
        "colab": {
          "base_uri": "https://localhost:8080/",
          "height": 312
        }
      },
      "source": [
        "numerator = gain\n",
        "denominator = 1+0.j\n",
        "for p in left_poles:\n",
        "    numerator = np.poly1d([1+omega_l**2 , -2+(2*omega_l**2 ), 1+omega_l**2 ],r=0)*numerator \n",
        "    denominator = np.poly1d([-p+b-(p*omega_l**2 ), (2*p)-(2*p*omega_l**2 ) , -p-b-(omega_l**2 *p)],r=0)*denominator\n",
        "z,p,k = sg.tf2zpk(numerator,denominator)\n",
        "\n",
        "\n",
        "\n",
        "plt.grid(True)\n",
        "plt.scatter(p.real,p.imag,s=50,marker='x')\n",
        "plt.scatter(z.real,z.imag,s=50,marker='o')\n",
        "plt.title('Pole Zero plot of Digital Bandstop filter')\n",
        "plt.ylabel('Imaginary')\n",
        "plt.xlabel('Real')\n"
      ],
      "execution_count": 36,
      "outputs": [
        {
          "output_type": "execute_result",
          "data": {
            "text/plain": [
              "Text(0.5, 0, 'Real')"
            ]
          },
          "metadata": {
            "tags": []
          },
          "execution_count": 36
        },
        {
          "output_type": "display_data",
          "data": {
            "image/png": "[encoded data removed]",
            "text/plain": [
              "<Figure size 432x288 with 1 Axes>"
            ]
          },
          "metadata": {
            "tags": [],
            "needs_background": "light"
          }
        }
      ]
    },
    {
      "cell_type": "code",
      "metadata": {
        "id": "TwoaY4jgqs1D",
        "outputId": "cb1342e4-f070-4ec9-a8f8-19025214a33d",
        "colab": {
          "base_uri": "https://localhost:8080/",
          "height": 295
        }
      },
      "source": [
        "\n",
        "plt.clf()\n",
        "plt.grid(True)\n",
        "w,h= sg.freqz(numerator,denominator)\n",
        "plt.plot((w/max(w)), np.absolute(h), linewidth=2)\n",
        "plt.xlabel('Normalized Frequency (Hz)')\n",
        "plt.ylabel('Gain')\n",
        "plt.title('Frequency Response of Digital Bandstop filter')\n",
        "plt.show()"
      ],
      "execution_count": 37,
      "outputs": [
        {
          "output_type": "display_data",
          "data": {
            "image/png": "[encoded data removed]",
            "text/plain": [
              "<Figure size 432x288 with 1 Axes>"
            ]
          },
          "metadata": {
            "tags": [],
            "needs_background": "light"
          }
        }
      ]
    },
    {
      "cell_type": "markdown",
      "metadata": {
        "id": "eDmHiRlrq3ga"
      },
      "source": [
        "# FIR Filters \n",
        "\n",
        "---\n",
        "\n",
        "Based on the previous question, we already have values for A, beta and N "
      ]
    },
    {
      "cell_type": "code",
      "metadata": {
        "id": "pUXg_0m1q5xC"
      },
      "source": [
        "A = -20*math.log10(delta)\n",
        "delta_w = 2*3.14*4000/330000\n",
        "\n",
        "\n",
        "N = np.ceil((A-8)/(2*2.285*delta_w)) + 5 # Adding an offset of 5 to reduce the ripples in the frequency transfer function"
      ],
      "execution_count": 38,
      "outputs": []
    },
    {
      "cell_type": "markdown",
      "metadata": {
        "id": "Nt1_PJoiswL3"
      },
      "source": [
        "# The Ideal Impulse Response "
      ]
    },
    {
      "cell_type": "code",
      "metadata": {
        "id": "StwTVLN1rQKI",
        "outputId": "d4f1ed1d-8caa-4aea-901d-1b3a6989ee95",
        "colab": {
          "base_uri": "https://localhost:8080/"
        }
      },
      "source": [
        "wc1= wp1\n",
        "wc2 = wp2 \n",
        "iterable   = ((np.sin(wc1*k)-np.sin(wc2*k))/(np.pi*k) for k in range(int(-N),int(N+1)))\n",
        "h_ideal    = np.fromiter(iterable,float)\n",
        "h_ideal[int(N)] = ((wc1-wc2)/np.pi)+1\n"
      ],
      "execution_count": 39,
      "outputs": [
        {
          "output_type": "stream",
          "text": [
            "/usr/local/lib/python3.6/dist-packages/ipykernel_launcher.py:3: RuntimeWarning: invalid value encountered in double_scalars\n",
            "  This is separate from the ipykernel package so we can avoid doing imports until\n"
          ],
          "name": "stderr"
        }
      ]
    },
    {
      "cell_type": "markdown",
      "metadata": {
        "id": "1jED4tfps_ED"
      },
      "source": [
        "# Kaiser Window "
      ]
    },
    {
      "cell_type": "code",
      "metadata": {
        "id": "RTmlEy3qtAuD"
      },
      "source": [
        "h_kaiser = sg.kaiser(2*N+1,0) # Know that the value of beta is 0\n",
        "h_org    = h_ideal*h_kaiser"
      ],
      "execution_count": 40,
      "outputs": []
    },
    {
      "cell_type": "markdown",
      "metadata": {
        "id": "ZnETinyWtFYi"
      },
      "source": [
        "# Plotting the Frequency Response of the filter "
      ]
    },
    {
      "cell_type": "code",
      "metadata": {
        "id": "6uSsE-Y2tICK",
        "outputId": "b7c95895-3429-4526-eb42-019094696f36",
        "colab": {
          "base_uri": "https://localhost:8080/",
          "height": 295
        }
      },
      "source": [
        "plt.clf()\n",
        "plt.grid(True)\n",
        "w,h= sg.freqz(h_org)\n",
        "plt.plot((w/max(w)), np.absolute(h), linewidth=2)\n",
        "plt.xlabel('Normalized Frequency (Hz)')\n",
        "plt.ylabel('Gain')\n",
        "plt.title('Magnitude Response of the FIR Filter')\n",
        "plt.show()\n"
      ],
      "execution_count": 41,
      "outputs": [
        {
          "output_type": "display_data",
          "data": {
            "image/png": "[encoded data removed]",
            "text/plain": [
              "<Figure size 432x288 with 1 Axes>"
            ]
          },
          "metadata": {
            "tags": [],
            "needs_background": "light"
          }
        }
      ]
    },
    {
      "cell_type": "markdown",
      "metadata": {
        "id": "W11qUaiptQGZ"
      },
      "source": [
        "# Phase response of the filter "
      ]
    },
    {
      "cell_type": "code",
      "metadata": {
        "id": "R9ytohOOtS0P",
        "outputId": "b18f31b8-70b4-4816-f123-6574d58803fc",
        "colab": {
          "base_uri": "https://localhost:8080/",
          "height": 312
        }
      },
      "source": [
        "plt.grid(True)\n",
        "\n",
        "hPhase = pylab.unwrap(np.arctan2(np.imag(h),np.real(h)))\n",
        "plt.plot(w/max(w),hPhase,linewidth=2)\n",
        "plt.ylabel('Phase (radians)')\n",
        "plt.xlabel(r'Normalized Frequency')\n",
        "plt.title(r'Phase response of the FIR filter')"
      ],
      "execution_count": 42,
      "outputs": [
        {
          "output_type": "execute_result",
          "data": {
            "text/plain": [
              "Text(0.5, 1.0, 'Phase response of the FIR filter')"
            ]
          },
          "metadata": {
            "tags": []
          },
          "execution_count": 42
        },
        {
          "output_type": "display_data",
          "data": {
            "image/png": "[encoded data removed]",
            "text/plain": [
              "<Figure size 432x288 with 1 Axes>"
            ]
          },
          "metadata": {
            "tags": [],
            "needs_background": "light"
          }
        }
      ]
    }
  ]
}